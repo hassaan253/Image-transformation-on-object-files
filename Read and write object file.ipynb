{
 "cells": [
  {
   "cell_type": "markdown",
   "metadata": {},
   "source": [
    "## Extraction of data from object file"
   ]
  },
  {
   "cell_type": "code",
   "execution_count": 2,
   "metadata": {},
   "outputs": [],
   "source": [
    "import numpy as np\n",
    "\n",
    "\n",
    "\n",
    "file_original = \"G.obj\"\n",
    "file_new = \"newG.obj\""
   ]
  },
  {
   "cell_type": "markdown",
   "metadata": {},
   "source": [
    "# Getting values of vertices"
   ]
  },
  {
   "cell_type": "code",
   "execution_count": null,
   "metadata": {},
   "outputs": [],
   "source": [
    "lines = \"\"\n",
    "with open(file_original, 'r') as f:\n",
    "    \n",
    "    size_to_read = 1\n",
    "    f_contents = f.read(size_to_read)\n",
    "  \n",
    "    while len(f_contents) > 0:\n",
    "        print(f_contents, end='')\n",
    "        f_contents = f.read(size_to_read)\n",
    "        lines += (f_contents)"
   ]
  },
  {
   "cell_type": "code",
   "execution_count": null,
   "metadata": {},
   "outputs": [],
   "source": [
    "new = lines.strip(\"\\n\")\n",
    "new2 = new.split(\"v\")\n",
    "new3 = []\n",
    "for i in new2:\n",
    "    if i != '':\n",
    "        new3.append(i)\n",
    "\n",
    "new4 = []\n",
    "x = []\n",
    "for i in new3:\n",
    "    x = i.split()\n",
    "    new4.append(x)\n",
    "    \n",
    "new5 = []\n",
    "for array in new4:\n",
    "    if array[0] != \"t\":\n",
    "        if array[0] != \"n\":\n",
    "            if array[0] != \"f\":\n",
    "                new5.append(array)\n",
    "new6 = []\n",
    "for array in new5:\n",
    "    floats_list = [float(item) for item in array]\n",
    "    new6.append(floats_list)\n",
    "\n",
    "new7 = []\n",
    "rotation_matrix =[[0,0,1],[0,1,0], [-1,0,0]]\n",
    "for vector in new6:\n",
    "    transformed = np.dot(rotation_matrix, vector)\n",
    "    new7.append(transformed)\n",
    "    \n",
    "new8 = []\n",
    "for vec in new7:\n",
    "    for i in range(3):\n",
    "        new8.append(vec[i])\n",
    "\n",
    "new9 = []\n",
    "i = 0\n",
    "for j in range(len(new8)):\n",
    "    temp = list(new8[i:i+3])\n",
    "    new9.append(temp)\n",
    "    i+=3\n",
    "    \n",
    "new10 = []\n",
    "for vec in new9:\n",
    "    if len(vec) > 0:\n",
    "        new10.append(vec)\n",
    "        \n",
    "new11 = \"\"\n",
    "for vec in new10:\n",
    "    temp = \"v \"\n",
    "    temp2 = \"\"\n",
    "    for i in range(3):\n",
    "        temp2 += str(vec[i]) + \" \"\n",
    "    temp3 = temp + temp2 + \"\\n\"    \n",
    "    new11 += temp3"
   ]
  },
  {
   "cell_type": "markdown",
   "metadata": {},
   "source": [
    "# Getting values of faces"
   ]
  },
  {
   "cell_type": "code",
   "execution_count": null,
   "metadata": {},
   "outputs": [],
   "source": [
    "faces = []\n",
    "for array in new4:\n",
    "    if array[0] == \"f\":\n",
    "        faces.append(array)\n",
    "\n",
    "newf2= lines2.split(\"f\")\n",
    "\n",
    "faces2 = []\n",
    "i = len(newf2)\n",
    "i = i-1\n",
    "for j in range(i):\n",
    "    faces2.append(newf2[j+1])\n",
    "\n",
    "for face in faces2:\n",
    "    face.strip(\"\\n\")\n",
    "\n",
    "facevertex = \"\"\n",
    "val = \"f\"\n",
    "for face in faces2:\n",
    "    facevertex += \"f\" + face "
   ]
  },
  {
   "cell_type": "markdown",
   "metadata": {},
   "source": [
    "### Adding both vertex and face values to a new object file"
   ]
  },
  {
   "cell_type": "code",
   "execution_count": null,
   "metadata": {},
   "outputs": [],
   "source": [
    "final = new11 + \"\\n\" + facevertex\n",
    "\n",
    "\n",
    "text_file = open(file_new, \"w\")\n",
    " \n",
    "#write string to file\n",
    "text_file.write(final)\n",
    "#close \n",
    "text_file.close()"
   ]
  }
 ],
 "metadata": {
  "kernelspec": {
   "display_name": "Python 3",
   "language": "python",
   "name": "python3"
  },
  "language_info": {
   "codemirror_mode": {
    "name": "ipython",
    "version": 3
   },
   "file_extension": ".py",
   "mimetype": "text/x-python",
   "name": "python",
   "nbconvert_exporter": "python",
   "pygments_lexer": "ipython3",
   "version": "3.7.7"
  }
 },
 "nbformat": 4,
 "nbformat_minor": 4
}
